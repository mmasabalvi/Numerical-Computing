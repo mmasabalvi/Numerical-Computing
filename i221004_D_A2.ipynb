{
 "cells": [
  {
   "cell_type": "code",
   "execution_count": 28,
   "id": "f079b87f-f49a-47af-b6db-b370b0ff6a1d",
   "metadata": {},
   "outputs": [],
   "source": [
    "import pandas as pd\n",
    "import matplotlib.pyplot as plt\n",
    "import scipy.interpolate as spi\n",
    "import numpy as np\n",
    "import math\n",
    "from scipy.interpolate import lagrange"
   ]
  },
  {
   "cell_type": "code",
   "execution_count": 29,
   "id": "7b0d7d2b-5106-4dd8-8985-172d10056c7c",
   "metadata": {},
   "outputs": [
    {
     "data": {
      "text/html": [
       "<div>\n",
       "<style scoped>\n",
       "    .dataframe tbody tr th:only-of-type {\n",
       "        vertical-align: middle;\n",
       "    }\n",
       "\n",
       "    .dataframe tbody tr th {\n",
       "        vertical-align: top;\n",
       "    }\n",
       "\n",
       "    .dataframe thead th {\n",
       "        text-align: right;\n",
       "    }\n",
       "</style>\n",
       "<table border=\"1\" class=\"dataframe\">\n",
       "  <thead>\n",
       "    <tr style=\"text-align: right;\">\n",
       "      <th></th>\n",
       "      <th>group</th>\n",
       "      <th>x</th>\n",
       "      <th>y</th>\n",
       "    </tr>\n",
       "  </thead>\n",
       "  <tbody>\n",
       "    <tr>\n",
       "      <th>0</th>\n",
       "      <td>I</td>\n",
       "      <td>10.0</td>\n",
       "      <td>8.04</td>\n",
       "    </tr>\n",
       "    <tr>\n",
       "      <th>1</th>\n",
       "      <td>I</td>\n",
       "      <td>8.0</td>\n",
       "      <td>6.95</td>\n",
       "    </tr>\n",
       "    <tr>\n",
       "      <th>2</th>\n",
       "      <td>I</td>\n",
       "      <td>13.0</td>\n",
       "      <td>7.58</td>\n",
       "    </tr>\n",
       "    <tr>\n",
       "      <th>3</th>\n",
       "      <td>I</td>\n",
       "      <td>9.0</td>\n",
       "      <td>8.81</td>\n",
       "    </tr>\n",
       "    <tr>\n",
       "      <th>4</th>\n",
       "      <td>I</td>\n",
       "      <td>11.0</td>\n",
       "      <td>8.33</td>\n",
       "    </tr>\n",
       "    <tr>\n",
       "      <th>5</th>\n",
       "      <td>I</td>\n",
       "      <td>14.0</td>\n",
       "      <td>9.96</td>\n",
       "    </tr>\n",
       "    <tr>\n",
       "      <th>6</th>\n",
       "      <td>I</td>\n",
       "      <td>6.0</td>\n",
       "      <td>7.24</td>\n",
       "    </tr>\n",
       "    <tr>\n",
       "      <th>7</th>\n",
       "      <td>I</td>\n",
       "      <td>4.0</td>\n",
       "      <td>4.26</td>\n",
       "    </tr>\n",
       "    <tr>\n",
       "      <th>8</th>\n",
       "      <td>I</td>\n",
       "      <td>12.0</td>\n",
       "      <td>10.84</td>\n",
       "    </tr>\n",
       "    <tr>\n",
       "      <th>9</th>\n",
       "      <td>I</td>\n",
       "      <td>7.0</td>\n",
       "      <td>4.82</td>\n",
       "    </tr>\n",
       "    <tr>\n",
       "      <th>10</th>\n",
       "      <td>I</td>\n",
       "      <td>5.0</td>\n",
       "      <td>5.68</td>\n",
       "    </tr>\n",
       "    <tr>\n",
       "      <th>11</th>\n",
       "      <td>II</td>\n",
       "      <td>10.0</td>\n",
       "      <td>9.14</td>\n",
       "    </tr>\n",
       "    <tr>\n",
       "      <th>12</th>\n",
       "      <td>II</td>\n",
       "      <td>8.0</td>\n",
       "      <td>8.14</td>\n",
       "    </tr>\n",
       "    <tr>\n",
       "      <th>13</th>\n",
       "      <td>II</td>\n",
       "      <td>13.0</td>\n",
       "      <td>8.74</td>\n",
       "    </tr>\n",
       "    <tr>\n",
       "      <th>14</th>\n",
       "      <td>II</td>\n",
       "      <td>9.0</td>\n",
       "      <td>8.77</td>\n",
       "    </tr>\n",
       "    <tr>\n",
       "      <th>15</th>\n",
       "      <td>II</td>\n",
       "      <td>11.0</td>\n",
       "      <td>9.26</td>\n",
       "    </tr>\n",
       "    <tr>\n",
       "      <th>16</th>\n",
       "      <td>II</td>\n",
       "      <td>14.0</td>\n",
       "      <td>8.10</td>\n",
       "    </tr>\n",
       "    <tr>\n",
       "      <th>17</th>\n",
       "      <td>II</td>\n",
       "      <td>6.0</td>\n",
       "      <td>6.13</td>\n",
       "    </tr>\n",
       "    <tr>\n",
       "      <th>18</th>\n",
       "      <td>II</td>\n",
       "      <td>4.0</td>\n",
       "      <td>3.10</td>\n",
       "    </tr>\n",
       "    <tr>\n",
       "      <th>19</th>\n",
       "      <td>II</td>\n",
       "      <td>12.0</td>\n",
       "      <td>9.13</td>\n",
       "    </tr>\n",
       "    <tr>\n",
       "      <th>20</th>\n",
       "      <td>II</td>\n",
       "      <td>7.0</td>\n",
       "      <td>7.26</td>\n",
       "    </tr>\n",
       "    <tr>\n",
       "      <th>21</th>\n",
       "      <td>II</td>\n",
       "      <td>5.0</td>\n",
       "      <td>4.74</td>\n",
       "    </tr>\n",
       "    <tr>\n",
       "      <th>22</th>\n",
       "      <td>III</td>\n",
       "      <td>10.0</td>\n",
       "      <td>7.46</td>\n",
       "    </tr>\n",
       "    <tr>\n",
       "      <th>23</th>\n",
       "      <td>III</td>\n",
       "      <td>8.0</td>\n",
       "      <td>6.77</td>\n",
       "    </tr>\n",
       "    <tr>\n",
       "      <th>24</th>\n",
       "      <td>III</td>\n",
       "      <td>13.0</td>\n",
       "      <td>12.74</td>\n",
       "    </tr>\n",
       "    <tr>\n",
       "      <th>25</th>\n",
       "      <td>III</td>\n",
       "      <td>9.0</td>\n",
       "      <td>7.11</td>\n",
       "    </tr>\n",
       "    <tr>\n",
       "      <th>26</th>\n",
       "      <td>III</td>\n",
       "      <td>11.0</td>\n",
       "      <td>7.81</td>\n",
       "    </tr>\n",
       "    <tr>\n",
       "      <th>27</th>\n",
       "      <td>III</td>\n",
       "      <td>14.0</td>\n",
       "      <td>8.84</td>\n",
       "    </tr>\n",
       "    <tr>\n",
       "      <th>28</th>\n",
       "      <td>III</td>\n",
       "      <td>6.0</td>\n",
       "      <td>6.08</td>\n",
       "    </tr>\n",
       "    <tr>\n",
       "      <th>29</th>\n",
       "      <td>III</td>\n",
       "      <td>4.0</td>\n",
       "      <td>5.39</td>\n",
       "    </tr>\n",
       "    <tr>\n",
       "      <th>30</th>\n",
       "      <td>III</td>\n",
       "      <td>12.0</td>\n",
       "      <td>8.15</td>\n",
       "    </tr>\n",
       "    <tr>\n",
       "      <th>31</th>\n",
       "      <td>III</td>\n",
       "      <td>7.0</td>\n",
       "      <td>6.42</td>\n",
       "    </tr>\n",
       "    <tr>\n",
       "      <th>32</th>\n",
       "      <td>III</td>\n",
       "      <td>5.0</td>\n",
       "      <td>5.73</td>\n",
       "    </tr>\n",
       "    <tr>\n",
       "      <th>33</th>\n",
       "      <td>IV</td>\n",
       "      <td>8.0</td>\n",
       "      <td>6.58</td>\n",
       "    </tr>\n",
       "    <tr>\n",
       "      <th>34</th>\n",
       "      <td>IV</td>\n",
       "      <td>8.0</td>\n",
       "      <td>5.76</td>\n",
       "    </tr>\n",
       "    <tr>\n",
       "      <th>35</th>\n",
       "      <td>IV</td>\n",
       "      <td>8.0</td>\n",
       "      <td>7.71</td>\n",
       "    </tr>\n",
       "    <tr>\n",
       "      <th>36</th>\n",
       "      <td>IV</td>\n",
       "      <td>8.0</td>\n",
       "      <td>8.84</td>\n",
       "    </tr>\n",
       "    <tr>\n",
       "      <th>37</th>\n",
       "      <td>IV</td>\n",
       "      <td>8.0</td>\n",
       "      <td>8.47</td>\n",
       "    </tr>\n",
       "    <tr>\n",
       "      <th>38</th>\n",
       "      <td>IV</td>\n",
       "      <td>8.0</td>\n",
       "      <td>7.04</td>\n",
       "    </tr>\n",
       "    <tr>\n",
       "      <th>39</th>\n",
       "      <td>IV</td>\n",
       "      <td>8.0</td>\n",
       "      <td>5.25</td>\n",
       "    </tr>\n",
       "    <tr>\n",
       "      <th>40</th>\n",
       "      <td>IV</td>\n",
       "      <td>19.0</td>\n",
       "      <td>12.50</td>\n",
       "    </tr>\n",
       "    <tr>\n",
       "      <th>41</th>\n",
       "      <td>IV</td>\n",
       "      <td>8.0</td>\n",
       "      <td>5.56</td>\n",
       "    </tr>\n",
       "    <tr>\n",
       "      <th>42</th>\n",
       "      <td>IV</td>\n",
       "      <td>8.0</td>\n",
       "      <td>7.91</td>\n",
       "    </tr>\n",
       "    <tr>\n",
       "      <th>43</th>\n",
       "      <td>IV</td>\n",
       "      <td>8.0</td>\n",
       "      <td>6.89</td>\n",
       "    </tr>\n",
       "  </tbody>\n",
       "</table>\n",
       "</div>"
      ],
      "text/plain": [
       "   group     x      y\n",
       "0      I  10.0   8.04\n",
       "1      I   8.0   6.95\n",
       "2      I  13.0   7.58\n",
       "3      I   9.0   8.81\n",
       "4      I  11.0   8.33\n",
       "5      I  14.0   9.96\n",
       "6      I   6.0   7.24\n",
       "7      I   4.0   4.26\n",
       "8      I  12.0  10.84\n",
       "9      I   7.0   4.82\n",
       "10     I   5.0   5.68\n",
       "11    II  10.0   9.14\n",
       "12    II   8.0   8.14\n",
       "13    II  13.0   8.74\n",
       "14    II   9.0   8.77\n",
       "15    II  11.0   9.26\n",
       "16    II  14.0   8.10\n",
       "17    II   6.0   6.13\n",
       "18    II   4.0   3.10\n",
       "19    II  12.0   9.13\n",
       "20    II   7.0   7.26\n",
       "21    II   5.0   4.74\n",
       "22   III  10.0   7.46\n",
       "23   III   8.0   6.77\n",
       "24   III  13.0  12.74\n",
       "25   III   9.0   7.11\n",
       "26   III  11.0   7.81\n",
       "27   III  14.0   8.84\n",
       "28   III   6.0   6.08\n",
       "29   III   4.0   5.39\n",
       "30   III  12.0   8.15\n",
       "31   III   7.0   6.42\n",
       "32   III   5.0   5.73\n",
       "33    IV   8.0   6.58\n",
       "34    IV   8.0   5.76\n",
       "35    IV   8.0   7.71\n",
       "36    IV   8.0   8.84\n",
       "37    IV   8.0   8.47\n",
       "38    IV   8.0   7.04\n",
       "39    IV   8.0   5.25\n",
       "40    IV  19.0  12.50\n",
       "41    IV   8.0   5.56\n",
       "42    IV   8.0   7.91\n",
       "43    IV   8.0   6.89"
      ]
     },
     "execution_count": 29,
     "metadata": {},
     "output_type": "execute_result"
    }
   ],
   "source": [
    "ans = pd.read_csv(\"anscombe.csv\")\n",
    "ans"
   ]
  },
  {
   "cell_type": "code",
   "execution_count": 30,
   "id": "f25e510e-7911-42eb-bb15-fabdd385e2b8",
   "metadata": {},
   "outputs": [
    {
     "data": {
      "text/plain": [
       "[<matplotlib.lines.Line2D at 0x2167a5cfcd0>]"
      ]
     },
     "execution_count": 30,
     "metadata": {},
     "output_type": "execute_result"
    },
    {
     "data": {
      "image/png": "[encoded data removed]",
      "text/plain": [
       "<Figure size 640x480 with 1 Axes>"
      ]
     },
     "metadata": {},
     "output_type": "display_data"
    }
   ],
   "source": [
    "plt.plot(ans[ans.group == \"II\"].x,ans[ans.group == \"II\"].y,'o')"
   ]
  },
  {
   "cell_type": "code",
   "execution_count": 31,
   "id": "1d7fa949-9478-498e-9e54-47dbe27b0e0a",
   "metadata": {},
   "outputs": [
    {
     "data": {
      "text/plain": [
       "[<matplotlib.lines.Line2D at 0x216023d20d0>]"
      ]
     },
     "execution_count": 31,
     "metadata": {},
     "output_type": "execute_result"
    },
    {
     "data": {
      "image/png": "[encoded data removed]",
      "text/plain": [
       "<Figure size 640x480 with 1 Axes>"
      ]
     },
     "metadata": {},
     "output_type": "display_data"
    }
   ],
   "source": [
    "plt.plot(ans[ans.group == \"I\"].x,ans[ans.group == \"I\"].y,'o')"
   ]
  },
  {
   "cell_type": "code",
   "execution_count": 32,
   "id": "666bff5c-93da-4596-a6cd-1c9bbfe6efd7",
   "metadata": {},
   "outputs": [
    {
     "data": {
      "text/plain": [
       "[<matplotlib.lines.Line2D at 0x2167e7f2190>]"
      ]
     },
     "execution_count": 32,
     "metadata": {},
     "output_type": "execute_result"
    },
    {
     "data": {
      "image/png": "[encoded data removed]",
      "text/plain": [
       "<Figure size 640x480 with 1 Axes>"
      ]
     },
     "metadata": {},
     "output_type": "display_data"
    }
   ],
   "source": [
    "plt.plot(ans[ans.group == \"III\"].x,ans[ans.group == \"III\"].y,'o')"
   ]
  },
  {
   "cell_type": "code",
   "execution_count": 33,
   "id": "3b2d880b-3c59-4006-b048-b4bca43ffc62",
   "metadata": {},
   "outputs": [
    {
     "data": {
      "text/plain": [
       "[<matplotlib.lines.Line2D at 0x2160263a650>]"
      ]
     },
     "execution_count": 33,
     "metadata": {},
     "output_type": "execute_result"
    },
    {
     "data": {
      "image/png": "[encoded data removed]",
      "text/plain": [
       "<Figure size 640x480 with 1 Axes>"
      ]
     },
     "metadata": {},
     "output_type": "display_data"
    }
   ],
   "source": [
    "plt.plot(ans[ans.group == \"IV\"].x,ans[ans.group == \"IV\"].y,'o')"
   ]
  },
  {
   "cell_type": "code",
   "execution_count": 34,
   "id": "453c3e19-56bf-4280-8d6c-e8ec26cf15a8",
   "metadata": {},
   "outputs": [
    {
     "data": {
      "image/png": "[encoded data removed]",
      "text/plain": [
       "<Figure size 1000x700 with 4 Axes>"
      ]
     },
     "metadata": {},
     "output_type": "display_data"
    }
   ],
   "source": [
    "\n",
    "fig, axes = plt.subplots(2, 2, figsize=(10, 7))\n",
    "\n",
    "# Iterate over each group and plot on respective subplot\n",
    "for i, group in enumerate([\"I\", \"II\", \"III\", \"IV\"]):\n",
    "    x = ans[ans.group == group][\"x\"].values\n",
    "    y = ans[ans.group == group][\"y\"].values\n",
    "    x = x - x.mean()\n",
    "    ax = axes[i // 2, i % 2]\n",
    "    ax.scatter(x, y)\n",
    "    ax.set_title(f\"subdataset {group}\", fontsize=20)\n",
    "    ax.set_xlabel(\"x\")\n",
    "    ax.set_ylabel(\"y\")\n",
    "    ax.set_xticks([])  # Hide x ticks\n",
    "\n",
    "plt.tight_layout()\n",
    "plt.show()\n"
   ]
  },
  {
   "cell_type": "code",
   "execution_count": 35,
   "id": "4cca98c5-ae1d-4020-a3bb-70ebd80f051f",
   "metadata": {},
   "outputs": [],
   "source": [
    "# TODO: complete this function to compute Root Mean Squared Error \n",
    "def RMSE(y_actual, y_predicted):\n",
    "    \n",
    "    squaredDifference = (y_actual - y_predicted) ** 2   #squared differences between actual and predicted values\n",
    "    MSE = np.mean(squaredDifference)                   #mean of squared differences\n",
    "    return math.sqrt(MSE)"
   ]
  },
  {
   "cell_type": "code",
   "execution_count": 36,
   "id": "43bb1722-e66b-4e9d-9a7c-ed17d6674696",
   "metadata": {},
   "outputs": [],
   "source": [
    "ans = pd.read_csv('anscombe.csv')\n",
    "x = np.sort(ans[ans.group == 'II']['x'].values)\n",
    "y= np.sort(ans[ans.group == 'II']['y'].values)"
   ]
  },
  {
   "cell_type": "code",
   "execution_count": 37,
   "id": "2799b19e-9c09-4700-b4b5-dbb73b150991",
   "metadata": {},
   "outputs": [
    {
     "data": {
      "text/plain": [
       "array([ 4.,  5.,  6.,  7.,  8.,  9., 10., 11., 12., 13., 14.])"
      ]
     },
     "execution_count": 37,
     "metadata": {},
     "output_type": "execute_result"
    }
   ],
   "source": [
    "x           #original x values from subdataset II"
   ]
  },
  {
   "cell_type": "code",
   "execution_count": 38,
   "id": "712382d6-a19b-43c6-9a3e-32276e4c2757",
   "metadata": {},
   "outputs": [
    {
     "data": {
      "text/plain": [
       "array([3.1 , 4.74, 6.13, 7.26, 8.1 , 8.14, 8.74, 8.77, 9.13, 9.14, 9.26])"
      ]
     },
     "execution_count": 38,
     "metadata": {},
     "output_type": "execute_result"
    }
   ],
   "source": [
    "y           #original y values from subdataset II"
   ]
  },
  {
   "cell_type": "code",
   "execution_count": 39,
   "id": "c62e5531-1ef8-4fce-8c76-d4544d956ef9",
   "metadata": {},
   "outputs": [],
   "source": [
    "#Give subset of Data in Assignment\n",
    "x1 = np.array([8, 9, 10, 11, 12, 13])\n",
    "y1 = np.array([8.1, 8.14, 8.74, 8.77, 9.13, 9.14])\n",
    "\n",
    "# Polynomial made of degree = 3\n",
    "coeffs = np.polyfit(x1, y1, 3)             #contains coefficients now\n",
    "polynomialFunc = np.poly1d(coeffs)         #uses coefficeints to generate Polynomial Function\n",
    "\n",
    "#Now it can be used to predict polynomial at any x value.\n",
    "y_poly = polynomialFunc(x)\n",
    "\n",
    "# Lagrange interpolation\n",
    "lagrange_func = lagrange(x1, y1)\n",
    "y_lag = lagrange_func(x)"
   ]
  },
  {
   "cell_type": "markdown",
   "id": "2f45a3ba-e1c0-46ea-ad4a-d5351f6458f2",
   "metadata": {},
   "source": [
    "# Approxmimation via interpolation "
   ]
  },
  {
   "cell_type": "code",
   "execution_count": 40,
   "id": "f8dc36db-c5eb-4566-918c-41470e0b9bc0",
   "metadata": {},
   "outputs": [
    {
     "data": {
      "text/plain": [
       "100.40959022467709"
      ]
     },
     "execution_count": 40,
     "metadata": {},
     "output_type": "execute_result"
    }
   ],
   "source": [
    "# RMSE \n",
    "rmse_lag = RMSE(y, y_lag)\n",
    "rmse_lag"
   ]
  },
  {
   "cell_type": "code",
   "execution_count": null,
   "id": "2a90fca4-f7d7-48c9-a725-041a75f5fb46",
   "metadata": {},
   "outputs": [],
   "source": []
  },
  {
   "cell_type": "code",
   "execution_count": 13,
   "id": "8d8bc92a-37ca-4bb2-bcfa-39367d33b62f",
   "metadata": {},
   "outputs": [],
   "source": []
  },
  {
   "cell_type": "markdown",
   "id": "e48f4503-2175-44fa-b71c-6494ea7113a4",
   "metadata": {},
   "source": [
    "# Approximation via Least square"
   ]
  },
  {
   "cell_type": "code",
   "execution_count": 41,
   "id": "ec26172a-6d21-44cb-a7ff-431e8fd2396d",
   "metadata": {},
   "outputs": [
    {
     "data": {
      "text/plain": [
       "2.7165657161323735"
      ]
     },
     "execution_count": 41,
     "metadata": {},
     "output_type": "execute_result"
    }
   ],
   "source": [
    "# RMSE \n",
    "rmse_poly = RMSE(y, y_poly)\n",
    "rmse_poly"
   ]
  },
  {
   "cell_type": "markdown",
   "id": "ea3dfdae-80b6-419a-a91e-9e4ca9232094",
   "metadata": {},
   "source": [
    "# Comparison and conlusion"
   ]
  },
  {
   "cell_type": "code",
   "execution_count": 42,
   "id": "b6f9314c-8415-4378-83fa-9a45d0024c87",
   "metadata": {},
   "outputs": [
    {
     "name": "stdout",
     "output_type": "stream",
     "text": [
      "Comparison:\n",
      "The error from # Approxmimation via interpolation is much larger than Approximation via Least square\n"
     ]
    }
   ],
   "source": [
    "print(\"Comparison:\")\n",
    "print(\"The error from # Approxmimation via interpolation is much larger than Approximation via Least square\")"
   ]
  },
  {
   "cell_type": "code",
   "execution_count": 47,
   "id": "abbca5c5-59dc-4ac1-b93c-5ababf8edcf9",
   "metadata": {},
   "outputs": [
    {
     "name": "stdout",
     "output_type": "stream",
     "text": [
      "Cocnlusion:\n",
      "As Lagrange Interpolation is designed to pass exactly through all data points, it can result in a poorer approximation over larger range of data\n"
     ]
    }
   ],
   "source": [
    "print(\"Cocnlusion:\")\n",
    "print(\"As Lagrange Interpolation is designed to pass exactly through all data points, it can result in a poorer approximation over larger range of data\")"
   ]
  },
  {
   "cell_type": "code",
   "execution_count": null,
   "id": "8f8e53fb-5f51-4e98-b318-6fcdfa9a2935",
   "metadata": {},
   "outputs": [],
   "source": []
  }
 ],
 "metadata": {
  "kernelspec": {
   "display_name": "Python 3 (ipykernel)",
   "language": "python",
   "name": "python3"
  },
  "language_info": {
   "codemirror_mode": {
    "name": "ipython",
    "version": 3
   },
   "file_extension": ".py",
   "mimetype": "text/x-python",
   "name": "python",
   "nbconvert_exporter": "python",
   "pygments_lexer": "ipython3",
   "version": "3.11.7"
  }
 },
 "nbformat": 4,
 "nbformat_minor": 5
}
