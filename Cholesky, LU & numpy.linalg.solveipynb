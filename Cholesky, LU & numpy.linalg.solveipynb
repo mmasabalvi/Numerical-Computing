{
 "cells": [
  {
   "cell_type": "markdown",
   "id": "09ae32f8-0d8a-4e52-aa2a-2cfbb552f2ca",
   "metadata": {},
   "source": [
    "# System of Linear Equations"
   ]
  },
  {
   "cell_type": "markdown",
   "id": "221b63a2-a8d8-465c-b6fc-559b2042dd7e",
   "metadata": {},
   "source": [
    "You are given 4 systems of linear equations. You need to solve each of these systems.\n",
    "\n",
    "Analyze each system to decide the appropriate factorization scheme. Base your answers on some properties of matrix that you figure out using the python code (not just a guess or a feeling). During this step you should also analyze if you need pioviting.\n",
    "\n",
    "Use appropriate factoriation scheme to factorize your matrices.\n",
    "\n",
    "Use factors to solve each system of equations.\n",
    "\n",
    "Compare your solution for correctness with the one provide by solve() method in numpy/scipy."
   ]
  },
  {
   "cell_type": "markdown",
   "id": "74fb70d2-80a1-466b-9627-5b3ed82299ce",
   "metadata": {},
   "source": [
    "## System 1"
   ]
  },
  {
   "cell_type": "code",
   "execution_count": 1,
   "id": "3790f2e0-dc30-4004-b8c1-9a84283ff1b7",
   "metadata": {},
   "outputs": [],
   "source": [
    "#Muhammad Masab Hammad\n",
    "#Numerical-D;\n",
    "#22I-1004\n",
    "\n",
    "import numpy as np\n",
    "import scipy.linalg as lin\n",
    "from scipy.linalg import cholesky\n",
    "\n",
    "A = np.array([[ 4.83563855, -0.48716942, -1.28874987, -0.17023577, -1.67652323],\n",
    "              [-0.48716942,  6.35914034, -0.23623091, -0.60038574,  0.9641109 ],\n",
    "              [-1.28874987, -0.23623091,  9.38492024,  1.51435365, -0.34446032],\n",
    "              [-0.17023577, -0.60038574,  1.51435365,  1.33489675, -0.05603862],\n",
    "              [-1.67652323,  0.9641109 , -0.34446032, -0.05603862,  5.58540411]])"
   ]
  },
  {
   "cell_type": "code",
   "execution_count": 2,
   "id": "182b7466-727b-491f-b714-c9f8d9786f64",
   "metadata": {},
   "outputs": [
    {
     "name": "stdout",
     "output_type": "stream",
     "text": [
      "Cholesky Decomposition Solution: [ 0.36230803  0.48638819 -0.13407343  1.92432408  0.21487061]\n",
      "numpy.linalg.solve Solution: [ 0.36230803  0.48638819 -0.13407343  1.92432408  0.21487061]\n"
     ]
    }
   ],
   "source": [
    "b = np.array([1, 2, 1, 2, 1])\n",
    "\n",
    "L = np.linalg.cholesky(A)\n",
    "y = np.linalg.solve(L, b)\n",
    "x = np.linalg.solve(L.T, y)\n",
    "\n",
    "l = np.linalg.solve(A,b)\n",
    "\n",
    "print(\"Cholesky Decomposition Solution:\", x)\n",
    "print(\"numpy.linalg.solve Solution:\", l)"
   ]
  },
  {
   "cell_type": "markdown",
   "id": "c007eb07-0e1e-4aaf-86d3-c4ba078fac95",
   "metadata": {},
   "source": [
    "## System 2"
   ]
  },
  {
   "cell_type": "code",
   "execution_count": 3,
   "id": "a5e25b20-fb1b-4bd5-8699-fe02b42435df",
   "metadata": {},
   "outputs": [],
   "source": [
    "a = np.array([[147.88014673,  61.58720137,  49.77390141,  86.19185778, -11.02020431],\n",
    "     [ 61.58720137,  79.21188958,  57.64600897,  92.97129568,   8.64205759],\n",
    "     [ 49.77390141,  57.64600897, 145.47555854,  -0.27750402, -35.6828936 ],\n",
    "     [ 86.19185778 , 92.97129568,  -0.27750402, 162.53268891,  30.11833521],\n",
    "     [-11.02020431  , 8.64205759, -35.6828936 ,  30.11833521,  39.31876182]])\n"
   ]
  },
  {
   "cell_type": "code",
   "execution_count": 4,
   "id": "e13ab1ce-d131-4b9e-9042-074f914dcb80",
   "metadata": {},
   "outputs": [
    {
     "name": "stdout",
     "output_type": "stream",
     "text": [
      "Cholesky Decomposition Solution: [ 0.36230803  0.48638819 -0.13407343  1.92432408  0.21487061]\n",
      "numpy.linalg.solve Solution: [ 0.36230803  0.48638819 -0.13407343  1.92432408  0.21487061]\n"
     ]
    }
   ],
   "source": [
    "b = np.array([1, 2, 1, 2, 1])\n",
    "\n",
    "L = np.linalg.cholesky(A)\n",
    "y = np.linalg.solve(L, b)\n",
    "x = np.linalg.solve(L.T, y)\n",
    "\n",
    "l = np.linalg.solve(A,b)\n",
    "\n",
    "print(\"Cholesky Decomposition Solution:\", x)\n",
    "print(\"numpy.linalg.solve Solution:\", l)"
   ]
  },
  {
   "cell_type": "markdown",
   "id": "8341e464-b297-4024-91a2-7b688e949ba0",
   "metadata": {},
   "source": [
    "## System 3"
   ]
  },
  {
   "cell_type": "code",
   "execution_count": 5,
   "id": "baee5207-066e-46af-90bc-ad2bf63ef917",
   "metadata": {},
   "outputs": [],
   "source": [
    "A = np.array([[1.64681904, 0.60467877, 0.30444051, 0.73676928, 0.69834607],\n",
    "              [0.60467877, 1.13522644, 0.75574608, 0.12606269, 0.85776802],\n",
    "              [0.30444051, 0.75574608, 1.4921206 , 0.8153735 , 0.38990932],\n",
    "              [0.73676928, 0.12606269, 0.8153735 , 1.2139189 , 0.37597481],\n",
    "              [0.69834607, 0.85776802, 0.38990932, 0.37597481, 1.06609491]])"
   ]
  },
  {
   "cell_type": "code",
   "execution_count": 6,
   "id": "29cab8f9-3d2d-4e25-becc-3c958cfcb1f2",
   "metadata": {},
   "outputs": [
    {
     "name": "stdout",
     "output_type": "stream",
     "text": [
      "Cholesky Decomposition Solution: [-233635.2138712   753731.90650205 -515831.71573771  552332.88626215\n",
      " -459530.89681477]\n",
      "numpy.linalg.solve Solution: [-233635.21391324  753731.90663766 -515831.71583052  552332.88636153\n",
      " -459530.89689745]\n"
     ]
    }
   ],
   "source": [
    "b = np.array([1, 2, 1, 2, 1])\n",
    "\n",
    "L = np.linalg.cholesky(A)\n",
    "y = np.linalg.solve(L, b)\n",
    "x = np.linalg.solve(L.T, y)\n",
    "\n",
    "l=np.linalg.solve(A,b)\n",
    "\n",
    "print(\"Cholesky Decomposition Solution:\", x)\n",
    "print(\"numpy.linalg.solve Solution:\", l)"
   ]
  },
  {
   "cell_type": "markdown",
   "id": "e22d6466-05d0-456d-b4cf-39ec2480387b",
   "metadata": {},
   "source": [
    "## System 4"
   ]
  },
  {
   "cell_type": "code",
   "execution_count": 7,
   "id": "9e23c2ed-caa1-4af3-b3df-2fd84b79a5b8",
   "metadata": {},
   "outputs": [],
   "source": [
    "A = np.array([\n",
    "    [2, 0, 0, 0, 0],\n",
    "    [2, 3, 0, 0, 0],\n",
    "    [3, 4, 4, 0, 0],\n",
    "    [4, 2, 3, 2, 0],\n",
    "    [2, 2, 2, 2, 2]\n",
    "])"
   ]
  },
  {
   "cell_type": "code",
   "execution_count": 8,
   "id": "979e582a-4236-4fb0-aed7-a44bfe5e11be",
   "metadata": {},
   "outputs": [
    {
     "name": "stdout",
     "output_type": "stream",
     "text": [
      "Solution X using LU Decomposition: [ 0.5         0.33333333 -0.45833333  0.35416667 -0.22916667]\n",
      "numpy.linalg.solve Solution: [ 0.5         0.33333333 -0.45833333  0.35416667 -0.22916667]\n"
     ]
    }
   ],
   "source": [
    "b = np.array([1, 2, 1, 2, 1])\n",
    "\n",
    "\n",
    "P, L, U = lin.lu(A)\n",
    "Pb = np.dot(P, b)\n",
    "y = lin.solve_triangular(L, Pb, lower=True)\n",
    "x = lin.solve_triangular(U, y)\n",
    "\n",
    "l = np.linalg.solve(A,b)\n",
    "\n",
    "print(\"Solution X using LU Decomposition:\", x)\n",
    "print(\"numpy.linalg.solve Solution:\", l)"
   ]
  },
  {
   "cell_type": "code",
   "execution_count": null,
   "id": "ccb2ad3c-5b55-4f43-a1a4-2230bc66679d",
   "metadata": {},
   "outputs": [],
   "source": []
  }
 ],
 "metadata": {
  "kernelspec": {
   "display_name": "Python 3 (ipykernel)",
   "language": "python",
   "name": "python3"
  },
  "language_info": {
   "codemirror_mode": {
    "name": "ipython",
    "version": 3
   },
   "file_extension": ".py",
   "mimetype": "text/x-python",
   "name": "python",
   "nbconvert_exporter": "python",
   "pygments_lexer": "ipython3",
   "version": "3.11.7"
  }
 },
 "nbformat": 4,
 "nbformat_minor": 5
}
